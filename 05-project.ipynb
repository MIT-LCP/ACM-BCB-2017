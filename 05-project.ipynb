{
 "cells": [
  {
   "cell_type": "markdown",
   "metadata": {},
   "source": [
    "# eICU Collaborative Research Database\n",
    "\n",
    "Before starting this workshop, you will need to copy the eicu demo database file ('eicu_demo.sqlite3') to the `data` directory.\n",
    "\n",
    "Documentation on the eICU Collaborative Research Database can be found at: http://eicu-crd.mit.edu/."
   ]
  },
  {
   "cell_type": "code",
   "execution_count": null,
   "metadata": {
    "collapsed": true
   },
   "outputs": [],
   "source": [
    "# Import libraries\n",
    "import pandas as pd\n",
    "import matplotlib.pyplot as plt\n",
    "import sqlite3\n",
    "import os"
   ]
  },
  {
   "cell_type": "code",
   "execution_count": null,
   "metadata": {
    "collapsed": true
   },
   "outputs": [],
   "source": [
    "# Plot settings\n",
    "%matplotlib inline\n",
    "plt.style.use('ggplot')\n",
    "fontsize = 20 # size for x and y ticks\n",
    "plt.rcParams['legend.fontsize'] = fontsize\n",
    "plt.rcParams.update({'font.size': fontsize})"
   ]
  },
  {
   "cell_type": "code",
   "execution_count": null,
   "metadata": {
    "collapsed": true
   },
   "outputs": [],
   "source": [
    "# Connect to the database\n",
    "fn = os.path.join('data','eicu_demo.sqlite3')\n",
    "con = sqlite3.connect(fn)\n",
    "cur = con.cursor()"
   ]
  },
  {
   "cell_type": "markdown",
   "metadata": {
    "collapsed": true
   },
   "source": [
    "## Choose a project, or try your own!"
   ]
  },
  {
   "cell_type": "markdown",
   "metadata": {},
   "source": [
    "If you're interested, you could try one of the following projects:\n",
    "\n",
    "* Congestive heart failure is a common illness for ICU patients, but the severity of the illness can vary substantially. Are there distinct subgroups among patients admitted with congestive heart failure? For example, are patients with preserved ejection fraction substantially different than those without?\n",
    "* Sepsis is a life-threatening condition usually associated with infection - but little research investigates how septic patients vary based on the source of the infection. As APACHE diagnoses are organ specific (e.g. `SEPSISPULM`, `SEPSISGI`, `SEPSISUTI`), can we find any substantial differences among septic patients based upon the initial location of the infection?\n",
    "* Lab measurements take up to 6 hours to measure and can be costly. Can we predict a future lab measurement based upon previous measures and simultaneous non-invasive measurements?\n",
    "* Dialysis is a major intervention provided in the ICU, and it serves to replace the function of the kidneys (cleaning the blood). Can we predict if a patient will receive dialysis from physiology?\n",
    "* Mechanical ventilation is a similar treatment used to replace the function of the lungs. This intervention eases the work of the breathing, allowing the patient's own lungs to heal. However, knowing when to cease mechanical ventilation (extubate) is an open problem, and clinicians largely utilize a \"try and see\" approach. Can we predict future extubation from the patient's current data?\n",
    "* Missing data is extremely common in clinical data. Measurements are sparse, noisy, irregularly sampled, and not missing at random. Gaussian Processes are an elegant technique for handling difficult data scenarious such as this. As many algorithms require complete data, techniques to impute realistic values for missing data are increasingly relevant. Can we use a Gaussian Process to estimate the trajectory of physiologic data and as a generative model for imputing missing data?"
   ]
  },
  {
   "cell_type": "markdown",
   "metadata": {},
   "source": [
    "## Load data from all tables\n",
    "\n",
    "If you prefer a purely python approach, you can load in all the tables using the below code. It should take only 1-2 minutes. If you would like to speed it up further, comment out the tables you don't need."
   ]
  },
  {
   "cell_type": "code",
   "execution_count": null,
   "metadata": {
    "collapsed": true
   },
   "outputs": [],
   "source": [
    "admissiondx = pd.read_sql_query(\"select * from admissiondx\", con)\n",
    "apacheapsvar = pd.read_sql_query(\"select * from apacheapsvar\", con)\n",
    "apachepatientresult = pd.read_sql_query(\"select * from apachepatientresult\", con)\n",
    "apachepredvar = pd.read_sql_query(\"select * from apachepredvar\", con)\n",
    "careplancareprovider = pd.read_sql_query(\"select * from careplancareprovider\", con)\n",
    "careplaneol = pd.read_sql_query(\"select * from careplaneol\", con)\n",
    "careplangeneral = pd.read_sql_query(\"select * from careplangeneral\", con)\n",
    "careplangoal = pd.read_sql_query(\"select * from careplangoal\", con)\n",
    "careplaninfectiousdisease = pd.read_sql_query(\"select * from careplaninfectiousdisease\", con)\n",
    "diagnosis = pd.read_sql_query(\"select * from diagnosis\", con)\n",
    "lab = pd.read_sql_query(\"select * from lab\", con)\n",
    "pasthistory = pd.read_sql_query(\"select * from pasthistory\", con)\n",
    "patient = pd.read_sql_query(\"select * from patient\", con)\n",
    "treatment = pd.read_sql_query(\"select * from treatment\", con)\n",
    "vitalaperiodic = pd.read_sql_query(\"select * from vitalaperiodic\", con)\n",
    "vitalperiodic = pd.read_sql_query(\"select * from vitalperiodic\", con)"
   ]
  }
 ],
 "metadata": {
  "kernelspec": {
   "display_name": "Python 2",
   "language": "python",
   "name": "python2"
  },
  "language_info": {
   "codemirror_mode": {
    "name": "ipython",
    "version": 2
   },
   "file_extension": ".py",
   "mimetype": "text/x-python",
   "name": "python",
   "nbconvert_exporter": "python",
   "pygments_lexer": "ipython2",
   "version": "2.7.12"
  }
 },
 "nbformat": 4,
 "nbformat_minor": 2
}

{
 "cells": [
  {
   "cell_type": "markdown",
   "metadata": {},
   "source": [
    "# eICU Collaborative Research Database\n",
    "\n",
    "# Workshop 2: Exploring a single patient stay"
   ]
  },
  {
   "cell_type": "code",
   "execution_count": null,
   "metadata": {
    "collapsed": true
   },
   "outputs": [],
   "source": [
    "# Import libraries\n",
    "import pandas as pd\n",
    "import psycopg2\n",
    "import matplotlib.pyplot as plt\n",
    "import seaborn as sbn"
   ]
  },
  {
   "cell_type": "code",
   "execution_count": null,
   "metadata": {
    "collapsed": true
   },
   "outputs": [],
   "source": [
    "# Plot settings\n",
    "%matplotlib inline\n",
    "plt.style.use('ggplot')\n",
    "fontsize = 20 # size for x and y ticks\n",
    "plt.rcParams['legend.fontsize'] = fontsize\n",
    "plt.rcParams.update({'font.size': fontsize})"
   ]
  },
  {
   "cell_type": "code",
   "execution_count": null,
   "metadata": {
    "collapsed": true
   },
   "outputs": [],
   "source": [
    "# Database config\n",
    "sqluser = 'postgres'\n",
    "dbname = 'eicu'\n",
    "schema_name = 'eicu_crd'"
   ]
  },
  {
   "cell_type": "code",
   "execution_count": null,
   "metadata": {
    "collapsed": true
   },
   "outputs": [],
   "source": [
    "# Connect to the database\n",
    "con = psycopg2.connect(dbname=dbname, user=sqluser)\n",
    "cur = con.cursor()\n",
    "cur.execute('SET search_path to ' + schema_name)"
   ]
  },
  {
   "cell_type": "markdown",
   "metadata": {},
   "source": [
    "## 1. Display list of tables"
   ]
  },
  {
   "cell_type": "code",
   "execution_count": null,
   "metadata": {
    "collapsed": true
   },
   "outputs": [],
   "source": [
    "query = \\\n",
    "\"\"\"\n",
    "SELECT tablename \n",
    "FROM pg_catalog.pg_tables \n",
    "WHERE schemaname like 'eicu_crd'\n",
    "ORDER BY tablename;\n",
    "\"\"\"\n",
    "\n",
    "list_of_tables = pd.read_sql_query(query,con)"
   ]
  },
  {
   "cell_type": "code",
   "execution_count": null,
   "metadata": {},
   "outputs": [],
   "source": [
    "list_of_tables"
   ]
  },
  {
   "cell_type": "markdown",
   "metadata": {},
   "source": [
    "## 2. Selecting a single patient stay "
   ]
  },
  {
   "cell_type": "markdown",
   "metadata": {},
   "source": [
    "### Questions\n",
    "\n",
    "Using your knowledge from the previous notebook and the online documentation (http://eicu-crd.mit.edu/):\n",
    "\n",
    "- Which column in the `patient` table is distinct for each stay in the ICU (similar to `icustay_id` in MIMIC-III)?\n",
    "- Which column is unique for each patient (similar to `subject_id` in MIMIC-III)?\n"
   ]
  },
  {
   "cell_type": "code",
   "execution_count": null,
   "metadata": {
    "collapsed": true
   },
   "outputs": [],
   "source": [
    "# select a single ICU stay\n",
    "patientunitstayid = 141168"
   ]
  },
  {
   "cell_type": "code",
   "execution_count": null,
   "metadata": {},
   "outputs": [],
   "source": [
    "# query to load data from the patient table\n",
    "query = \\\n",
    "\"\"\"\n",
    "SELECT *\n",
    "FROM patient\n",
    "WHERE patientunitstayid = {}\n",
    "\"\"\".format(patientunitstayid)\n",
    "\n",
    "print(query)"
   ]
  },
  {
   "cell_type": "code",
   "execution_count": null,
   "metadata": {
    "collapsed": true
   },
   "outputs": [],
   "source": [
    "# run the query and assign the output to a variable\n",
    "unitstay = pd.read_sql_query(query,con)"
   ]
  },
  {
   "cell_type": "code",
   "execution_count": null,
   "metadata": {},
   "outputs": [],
   "source": [
    "# display the first few rows of the dataframe\n",
    "unitstay.head()"
   ]
  },
  {
   "cell_type": "code",
   "execution_count": null,
   "metadata": {},
   "outputs": [],
   "source": [
    "# display a list of columns\n",
    "unitstay.columns"
   ]
  },
  {
   "cell_type": "code",
   "execution_count": null,
   "metadata": {},
   "outputs": [],
   "source": [
    "# select a limited number of columns to view\n",
    "columns = ['patientunitstayid','gender','age','unitdischargestatus']\n",
    "unitstay[columns]"
   ]
  },
  {
   "cell_type": "code",
   "execution_count": null,
   "metadata": {},
   "outputs": [],
   "source": [
    "unitstay.describe()"
   ]
  },
  {
   "cell_type": "markdown",
   "metadata": {},
   "source": [
    "### Questions\n",
    "\n",
    "- What year was the patient admitted to the ICU? What year was he or she discharged?\n",
    "- What was the status of the patient upon discharge from the unit?"
   ]
  },
  {
   "cell_type": "markdown",
   "metadata": {},
   "source": [
    "### 2.2. Periodic vital signs\n",
    " \n",
    "The `vitalperiodic` table comprises data that is consistently interfaced from bedside vital signs monitors into eCareManager. Data are generally interfaced as 1 minute averages, and archived into the `vitalperiodic` table as 5 minute median values. For more detail, see: http://eicu-crd.mit.edu/eicutables/vitalPeriodic/"
   ]
  },
  {
   "cell_type": "code",
   "execution_count": null,
   "metadata": {},
   "outputs": [],
   "source": [
    "# query to load data from the patient table\n",
    "query = \\\n",
    "\"\"\"\n",
    "SELECT *\n",
    "FROM vitalperiodic\n",
    "WHERE patientunitstayid = {}\n",
    "\"\"\".format(patientunitstayid)\n",
    "\n",
    "print(query)"
   ]
  },
  {
   "cell_type": "code",
   "execution_count": null,
   "metadata": {
    "collapsed": true
   },
   "outputs": [],
   "source": [
    "# run the query and assign the output to a variable\n",
    "vitalperiodic = pd.read_sql_query(query,con)"
   ]
  },
  {
   "cell_type": "code",
   "execution_count": null,
   "metadata": {},
   "outputs": [],
   "source": [
    "# display the first few rows of the dataframe\n",
    "vitalperiodic.head()"
   ]
  },
  {
   "cell_type": "code",
   "execution_count": null,
   "metadata": {},
   "outputs": [],
   "source": [
    "# display a full list of columns\n",
    "vitalperiodic.columns"
   ]
  },
  {
   "cell_type": "code",
   "execution_count": null,
   "metadata": {},
   "outputs": [],
   "source": [
    "# sort the values by the observationoffset (time in minutes from ICU admission)\n",
    "vitalperiodic = vitalperiodic.sort_values(by='observationoffset')\n",
    "vitalperiodic.head()"
   ]
  },
  {
   "cell_type": "code",
   "execution_count": null,
   "metadata": {},
   "outputs": [],
   "source": [
    "# subselect the variable columns\n",
    "columns = ['observationoffset','temperature','sao2','heartrate','respiration',\n",
    "          'cvp','etco2','systemicsystolic','systemicdiastolic','systemicmean',\n",
    "          'pasystolic','padiastolic','pamean','st1','st2','st3','icp']\n",
    "\n",
    "vitalperiodic = vitalperiodic[columns].set_index('observationoffset')\n",
    "vitalperiodic.head()"
   ]
  },
  {
   "cell_type": "code",
   "execution_count": null,
   "metadata": {},
   "outputs": [],
   "source": [
    "# plot the data\n",
    "figsize = (18,8)\n",
    "title = 'Vital signs from admission to ICU for patientunitstayid = {} \\n'.format(patientunitstayid)\n",
    "ax = vitalperiodic.plot(title=title, figsize=figsize, fontsize=fontsize)\n",
    "\n",
    "ax.title.set_size(fontsize)\n",
    "ax.legend(loc='center left', bbox_to_anchor=(1.0, 0.5))\n",
    "ax.set_xlabel(\"Minutes after admission to the ICU\")\n",
    "ax.set_ylabel(\"Absolute value\")"
   ]
  },
  {
   "cell_type": "markdown",
   "metadata": {},
   "source": [
    "### Questions\n",
    "\n",
    "- ???"
   ]
  },
  {
   "cell_type": "markdown",
   "metadata": {},
   "source": [
    "### 2.3. Aperiodic vital signs¶"
   ]
  },
  {
   "cell_type": "code",
   "execution_count": null,
   "metadata": {},
   "outputs": [],
   "source": [
    "# query to load data from the patient table\n",
    "query = \\\n",
    "\"\"\"\n",
    "SELECT *\n",
    "FROM vitalaperiodic\n",
    "WHERE patientunitstayid = {}\n",
    "\"\"\".format(patientunitstayid)\n",
    "\n",
    "print(query)"
   ]
  },
  {
   "cell_type": "code",
   "execution_count": null,
   "metadata": {
    "collapsed": true
   },
   "outputs": [],
   "source": [
    "# run the query and assign the output to a variable\n",
    "vitalaperiodic = pd.read_sql_query(query,con)"
   ]
  },
  {
   "cell_type": "code",
   "execution_count": null,
   "metadata": {},
   "outputs": [],
   "source": [
    "# display the first few rows of the dataframe\n",
    "vitalaperiodic.head()"
   ]
  },
  {
   "cell_type": "code",
   "execution_count": null,
   "metadata": {},
   "outputs": [],
   "source": [
    "vitalaperiodic.columns"
   ]
  },
  {
   "cell_type": "code",
   "execution_count": null,
   "metadata": {},
   "outputs": [],
   "source": [
    "# sort the values by the observationoffset (time in minutes from ICU admission)\n",
    "vitalaperiodic = vitalaperiodic.sort_values(by='observationoffset')\n",
    "vitalaperiodic.head()"
   ]
  },
  {
   "cell_type": "code",
   "execution_count": null,
   "metadata": {},
   "outputs": [],
   "source": [
    "# subselect the variable columns\n",
    "columns = ['observationoffset','noninvasivesystolic','noninvasivediastolic',\n",
    "          'noninvasivemean','paop','cardiacoutput','cardiacinput','svr',\n",
    "          'svri','pvr','pvri']\n",
    "\n",
    "vitalaperiodic = vitalaperiodic[columns].set_index('observationoffset')\n",
    "vitalaperiodic.head()"
   ]
  },
  {
   "cell_type": "code",
   "execution_count": null,
   "metadata": {},
   "outputs": [],
   "source": [
    "# plot the data\n",
    "figsize = (18,8)\n",
    "title = 'Vital signs (aperiodic) from admission to ICU for patientunitstayid = {} \\n'.format(patientunitstayid)\n",
    "ax = vitalaperiodic.plot(title=title, figsize=figsize, fontsize=fontsize)\n",
    "\n",
    "ax.title.set_size(fontsize)\n",
    "ax.legend(loc='center left', bbox_to_anchor=(1.0, 0.5))\n",
    "ax.set_xlabel(\"Minutes after admission to the ICU\")\n",
    "ax.set_ylabel(\"Absolute value\")"
   ]
  },
  {
   "cell_type": "markdown",
   "metadata": {},
   "source": [
    "### 2.4. Infusion drugs"
   ]
  },
  {
   "cell_type": "code",
   "execution_count": null,
   "metadata": {},
   "outputs": [],
   "source": [
    "# query to load data from the patient table\n",
    "query = \\\n",
    "\"\"\"\n",
    "SELECT *\n",
    "FROM infusiondrug\n",
    "WHERE patientunitstayid = {}\n",
    "\"\"\".format(patientunitstayid)\n",
    "\n",
    "print(query)"
   ]
  },
  {
   "cell_type": "code",
   "execution_count": null,
   "metadata": {
    "collapsed": true
   },
   "outputs": [],
   "source": [
    "# run the query and assign the output to a variable\n",
    "infusiondrug = pd.read_sql_query(query,con)"
   ]
  },
  {
   "cell_type": "code",
   "execution_count": null,
   "metadata": {},
   "outputs": [],
   "source": [
    "# display the first few rows of the dataframe\n",
    "infusiondrug.head()"
   ]
  },
  {
   "cell_type": "markdown",
   "metadata": {},
   "source": [
    "### 2.5. Laboratory test results"
   ]
  },
  {
   "cell_type": "code",
   "execution_count": null,
   "metadata": {},
   "outputs": [],
   "source": [
    "# query to load data from the patient table\n",
    "query = \\\n",
    "\"\"\"\n",
    "SELECT *\n",
    "FROM lab\n",
    "WHERE patientunitstayid = {}\n",
    "\"\"\".format(patientunitstayid)\n",
    "\n",
    "print(query)"
   ]
  },
  {
   "cell_type": "code",
   "execution_count": null,
   "metadata": {
    "collapsed": true
   },
   "outputs": [],
   "source": [
    "# run the query and assign the output to a variable\n",
    "lab = pd.read_sql_query(query,con)"
   ]
  },
  {
   "cell_type": "code",
   "execution_count": null,
   "metadata": {},
   "outputs": [],
   "source": [
    "# display the first few rows of the dataframe\n",
    "lab.head()"
   ]
  },
  {
   "cell_type": "code",
   "execution_count": null,
   "metadata": {
    "collapsed": true
   },
   "outputs": [],
   "source": []
  },
  {
   "cell_type": "code",
   "execution_count": null,
   "metadata": {
    "collapsed": true
   },
   "outputs": [],
   "source": []
  },
  {
   "cell_type": "code",
   "execution_count": null,
   "metadata": {
    "collapsed": true
   },
   "outputs": [],
   "source": []
  },
  {
   "cell_type": "code",
   "execution_count": null,
   "metadata": {
    "collapsed": true
   },
   "outputs": [],
   "source": []
  },
  {
   "cell_type": "code",
   "execution_count": null,
   "metadata": {
    "collapsed": true
   },
   "outputs": [],
   "source": []
  },
  {
   "cell_type": "code",
   "execution_count": null,
   "metadata": {
    "collapsed": true
   },
   "outputs": [],
   "source": []
  }
 ],
 "metadata": {
  "kernelspec": {
   "display_name": "Python 2",
   "language": "python",
   "name": "python2"
  },
  "language_info": {
   "codemirror_mode": {
    "name": "ipython",
    "version": 2
   },
   "file_extension": ".py",
   "mimetype": "text/x-python",
   "name": "python",
   "nbconvert_exporter": "python",
   "pygments_lexer": "ipython2",
   "version": "2.7.13"
  }
 },
 "nbformat": 4,
 "nbformat_minor": 2
}
